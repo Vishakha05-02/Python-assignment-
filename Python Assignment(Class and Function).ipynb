{
 "cells": [
  {
   "cell_type": "code",
   "execution_count": 2,
   "metadata": {},
   "outputs": [
    {
     "name": "stdout",
     "output_type": "stream",
     "text": [
      "The Area of triangle is :  18.973665961010276\n"
     ]
    }
   ],
   "source": [
    "# Python program to find the area of triangle by using given Heron's formula.\n",
    "\n",
    "# Defining a Parent class for assigning sides of Triangles.\n",
    "class sides() :\n",
    "    \n",
    "    def __init__(self, a, b, c) :\n",
    "        \n",
    "        self.a = a\n",
    "        self.b = b\n",
    "        self.c = c\n",
    "\n",
    "#   Defining a new class for functions to find the area of triangle\n",
    "class area(sides) :\n",
    "    \n",
    "    def __init__(self, *args) :\n",
    "        \n",
    "        super(area, self).__init__(*args)\n",
    "    \n",
    "    def area(self, *args) :\n",
    "        \n",
    "        s = self.a + self.b + self.c\n",
    "        return (s*(s-self.a)*(s-self.b)*(s-self.c)) ** 0.5\n",
    "    \n",
    "#  driver code\n",
    "    \n",
    "a = area(1, 2, 3)  \n",
    "\n",
    "print (\"The Area of triangle is : \", a.area())"
   ]
  },
  {
   "cell_type": "code",
   "execution_count": 6,
   "metadata": {},
   "outputs": [
    {
     "name": "stdout",
     "output_type": "stream",
     "text": [
      "The new list is  ['beautiful', 'computer', 'programming', 'python', 'anaconda', 'vscode', 'pycharm']\n"
     ]
    }
   ],
   "source": [
    "\"\"\"(1.2) Write a function filter_long_words() that takes a list of words and an integer n \n",
    "and returns the list of words that are longer than n.\"\"\"\n",
    "#  Python program to filter a list of words longer than n\n",
    "\n",
    "old_list = ['fish', 'sudh', 'beautiful', 'river', 'computer', 'programming', 'python', 'anaconda', 'vscode', 'pycharm' ]\n",
    "\n",
    "# Defining a function for filtering the words\n",
    "\n",
    "def test(x):\n",
    "    \n",
    "    if len(x) > 5 :\n",
    "        return True\n",
    "    else :\n",
    "        return False\n",
    "\n",
    "# driver code    \n",
    "new_list = list(filter(test, old_list))\n",
    "\n",
    "print (\"The new list is \", new_list)"
   ]
  },
  {
   "cell_type": "code",
   "execution_count": 4,
   "metadata": {},
   "outputs": [
    {
     "name": "stdout",
     "output_type": "stream",
     "text": [
      "Words in the list are : ['beautiful', 'computer', 'programming', 'python', 'anaconda', 'vscode', 'pycharm']\n",
      "The length of words are -  [9, 8, 11, 6, 8, 6, 7]\n"
     ]
    }
   ],
   "source": [
    "\"\"\"2.1) Write a Python program using function concept \n",
    "that maps list of words into a list of integers representing the lengths of the corresponding words\"\"\"\n",
    "\n",
    "#  Defining lists\n",
    "list_of_words = ['beautiful', 'computer', 'programming', 'python', 'anaconda', 'vscode', 'pycharm']\n",
    "print ('Words in the list are :', list_of_words)\n",
    "\n",
    "# defining a function\n",
    "def test(list):\n",
    "    \n",
    "    length_of_words = []\n",
    "    for i in list:\n",
    "        length_of_words.append(len(i))\n",
    "    \n",
    "    print('The length of words are - ', length_of_words)\n",
    "\n",
    "# driver code\n",
    "test(list_of_words)"
   ]
  },
  {
   "cell_type": "code",
   "execution_count": 1,
   "metadata": {},
   "outputs": [
    {
     "name": "stdout",
     "output_type": "stream",
     "text": [
      "False\n",
      "True\n",
      "False\n"
     ]
    }
   ],
   "source": [
    "# Python program to create a function and check if a letter is vowel or not.\n",
    "\n",
    "vowels = ['A', 'a','E', 'e','I', 'i','O', 'o','U', 'u']\n",
    " \n",
    "def isvowel(x) :\n",
    "    \n",
    "    if x in vowels:\n",
    "        return True\n",
    "    else:\n",
    "        return False\n",
    "\n",
    "\n",
    "# Driver code\n",
    "print(isvowel('G'))\n",
    "print(isvowel('i'))\n",
    "print(isvowel(1))"
   ]
  },
  {
   "cell_type": "code",
   "execution_count": null,
   "metadata": {},
   "outputs": [],
   "source": []
  }
 ],
 "metadata": {
  "kernelspec": {
   "display_name": "Python 3",
   "language": "python",
   "name": "python3"
  },
  "language_info": {
   "codemirror_mode": {
    "name": "ipython",
    "version": 3
   },
   "file_extension": ".py",
   "mimetype": "text/x-python",
   "name": "python",
   "nbconvert_exporter": "python",
   "pygments_lexer": "ipython3",
   "version": "3.8.3"
  }
 },
 "nbformat": 4,
 "nbformat_minor": 4
}
